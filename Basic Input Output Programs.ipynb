{
 "cells": [
  {
   "cell_type": "markdown",
   "id": "39338ba1",
   "metadata": {},
   "source": [
    "### 1. Write a program to print yourself Introduction"
   ]
  },
  {
   "cell_type": "code",
   "execution_count": 2,
   "id": "d21d8899",
   "metadata": {},
   "outputs": [
    {
     "name": "stdout",
     "output_type": "stream",
     "text": [
      "Enter the name : Yoginder\n",
      "Enter the age : 22\n",
      "Enter the qualification : Mechanical Engineering\n",
      "Enter the current working : Data analyst\n",
      "My name is Yoginder and am 22 years old and am a Mechanical Engineering graduated. Now, i am doing Data analyst Course last 3 month.\n"
     ]
    }
   ],
   "source": [
    "Name = input(\"Enter the name : \")\n",
    "Age = int(input(\"Enter the age : \"))\n",
    "Education = input(\"Enter the qualification : \")\n",
    "Working = input(\"Enter the current working : \")\n",
    "print(\"My name is\",Name,\"and am\",Age,\"years old\",\"and am a\",Education,\"graduated. Now, i am doing\",Working,\"Course last 3 month.\")\n"
   ]
  },
  {
   "cell_type": "markdown",
   "id": "e261d3b4",
   "metadata": {},
   "source": [
    "### 2.Write a program to perform the following operations:\n",
    "- Addition\n",
    "- Subtraction\n",
    "- Multiplication\n",
    "- Division\n",
    "- Modulus\n",
    "- Exponent"
   ]
  },
  {
   "cell_type": "code",
   "execution_count": 3,
   "id": "db547bf6",
   "metadata": {},
   "outputs": [
    {
     "name": "stdout",
     "output_type": "stream",
     "text": [
      "Enter the num1 value : 8\n",
      "Enter the num2 value : 4\n",
      "Sum of two numbers is : 12\n",
      "Difference of two numbers is : 4\n",
      "Multiplication of two numbers is : 32\n",
      "Division of two numbers is : 2.0\n",
      "Modulus of two numbers is : 0\n",
      "Exponent of two numbers is : 4096\n"
     ]
    }
   ],
   "source": [
    "num1=int(input(\"Enter the num1 value : \"))\n",
    "num2=int(input(\"Enter the num2 value : \"))\n",
    "Addition=num1+num2\n",
    "Subtraction=num1-num2\n",
    "Multiplication=num1*num2\n",
    "Division=num1/num2\n",
    "Mod=num1%num2\n",
    "Expo=num1**num2\n",
    "print(\"Sum of two numbers is :\",Addition)\n",
    "print(\"Difference of two numbers is :\",Subtraction)\n",
    "print(\"Multiplication of two numbers is :\",Multiplication)\n",
    "print(\"Division of two numbers is :\",Division)\n",
    "print(\"Modulus of two numbers is :\",Mod)\n",
    "print(\"Exponent of two numbers is :\",Expo)\n"
   ]
  },
  {
   "cell_type": "markdown",
   "id": "33cb87bc",
   "metadata": {},
   "source": [
    "## 3. Write a program to swap two numbers."
   ]
  },
  {
   "cell_type": "code",
   "execution_count": 5,
   "id": "8c79b588",
   "metadata": {},
   "outputs": [
    {
     "name": "stdout",
     "output_type": "stream",
     "text": [
      "Enter the num1 value : 8\n",
      "Enter the num2 value : 4\n",
      "We assume that a number is num3 and its equal to num1 value\n",
      "num1 value is assin to the num2 value\n",
      "num2 value is assin to the num3 value\n",
      "Swap value of num1 :  4\n",
      "Swap value of num2 :  8\n"
     ]
    }
   ],
   "source": [
    "num1=int(input(\"Enter the num1 value : \"))\n",
    "num2=int(input(\"Enter the num2 value : \"))\n",
    "print(\"We assume that a number is num3 and its equal to num1 value\")\n",
    "num3=num1\n",
    "print(\"num1 value is assin to the num2 value\")\n",
    "num1=num2\n",
    "print(\"num2 value is assin to the num3 value\")\n",
    "num2=num3\n",
    "print(\"Swap value of num1 : \",num1)\n",
    "print(\"Swap value of num2 : \",num2)"
   ]
  },
  {
   "cell_type": "markdown",
   "id": "b0e9ba33",
   "metadata": {},
   "source": [
    "## 4. Write a program Swap two number without third variable."
   ]
  },
  {
   "cell_type": "code",
   "execution_count": 6,
   "id": "8cabd4a4",
   "metadata": {},
   "outputs": [
    {
     "name": "stdout",
     "output_type": "stream",
     "text": [
      "Enter the num1 value : 8\n",
      "Enter the num2 value : 4\n",
      "=======================\n",
      "=======================\n",
      "Swap value of num1 :  4\n",
      "Swap value of num2 :  8\n"
     ]
    }
   ],
   "source": [
    "num1=int(input(\"Enter the num1 value : \"))\n",
    "num2=int(input(\"Enter the num2 value : \"))\n",
    "print(\"=======================\")\n",
    "num1,num2=num2,num1\n",
    "print(\"=======================\")\n",
    "print(\"Swap value of num1 : \",num1)\n",
    "print(\"Swap value of num2 : \",num2)\n"
   ]
  },
  {
   "cell_type": "markdown",
   "id": "7b1028ff",
   "metadata": {},
   "source": [
    "## 5. Write a program Compute simple interest."
   ]
  },
  {
   "cell_type": "code",
   "execution_count": 8,
   "id": "c513eba3",
   "metadata": {},
   "outputs": [
    {
     "name": "stdout",
     "output_type": "stream",
     "text": [
      "Enter the P value : 1000\n",
      "Enter the R value : 8\n",
      "Enter the T value : 2\n",
      "P is Principal amount\n",
      "R is interest rate\n",
      "T is  time\n",
      "Simple interest is :  160.0\n"
     ]
    }
   ],
   "source": [
    "P=int(input(\"Enter the P value : \"))\n",
    "R=int(input(\"Enter the R value : \"))\n",
    "T=int(input(\"Enter the T value : \"))\n",
    "print(\"\"\"P is Principal amount\n",
    "R is interest rate\n",
    "T is  time\"\"\")\n",
    "SI=(P*R*T)/100\n",
    "print(\"Simple interest is : \",SI)"
   ]
  },
  {
   "cell_type": "markdown",
   "id": "f893462a",
   "metadata": {},
   "source": [
    "## 6. Write a program Average of five number."
   ]
  },
  {
   "cell_type": "code",
   "execution_count": 14,
   "id": "dde8dfb6",
   "metadata": {},
   "outputs": [
    {
     "name": "stdout",
     "output_type": "stream",
     "text": [
      "Enter the num1 value : 50\n",
      "Enter the num2 value : 60\n",
      "Enter the num3 value : 70\n",
      "Enter the num4 value : 80\n",
      "Enter the num5 value : 90\n",
      "Average of 5 numbers :  70.0\n"
     ]
    }
   ],
   "source": [
    "num1 = int(input(\"Enter the num1 value : \"))\n",
    "num2 = int(input(\"Enter the num2 value : \"))\n",
    "num3 = int(input(\"Enter the num3 value : \"))\n",
    "num4 = int(input(\"Enter the num4 value : \"))\n",
    "num5 = int(input(\"Enter the num5 value : \"))\n",
    "average=(num1+num2+num3+num4+num5)/5\n",
    "print(\"Average of 5 numbers : \",average)"
   ]
  },
  {
   "cell_type": "markdown",
   "id": "3690ec96",
   "metadata": {},
   "source": [
    "## 7. Write a program Discriminant of a quadratic equation."
   ]
  },
  {
   "cell_type": "code",
   "execution_count": 16,
   "id": "1639a003",
   "metadata": {},
   "outputs": [
    {
     "name": "stdout",
     "output_type": "stream",
     "text": [
      "Enter the a value : 20\n",
      "Enter the b value : 75\n",
      "Enter the c value : 10\n",
      "Discriminant value is :  4825\n"
     ]
    }
   ],
   "source": [
    "x=int(input(\"Enter the a value : \"))\n",
    "y=int(input(\"Enter the b value : \"))\n",
    "z=int(input(\"Enter the c value : \"))\n",
    "discriminant=(y**2)-4*x*z\n",
    "print(\"Discriminant value is : \",discriminant)"
   ]
  },
  {
   "cell_type": "markdown",
   "id": "98756c05",
   "metadata": {},
   "source": [
    "## 8. Write a program Calculate the areas of following shapes:\n",
    " - Rectangle\n",
    " - Square\n",
    " - Triangle\n",
    " - Circle"
   ]
  },
  {
   "cell_type": "code",
   "execution_count": 19,
   "id": "377c7eb0",
   "metadata": {},
   "outputs": [
    {
     "name": "stdout",
     "output_type": "stream",
     "text": [
      "=========================\n",
      "Enter the height : 10\n",
      "Enter the width : 5\n",
      "Area of rectangle is :  50\n",
      "=========================\n",
      "=========================\n",
      "Enter the length of side : 60\n",
      "Area of Square is :  3600\n",
      "=========================\n",
      "=========================\n",
      "Enter the base : 15\n",
      "Enter the height : 20\n",
      "Area of Triangle is :  75.0\n",
      "=========================\n",
      "=========================\n",
      "Enter the radius : 5\n",
      "Area of Circle is :  78.5\n",
      "=========================\n"
     ]
    }
   ],
   "source": [
    "\n",
    "    print(\"=========================\")\n",
    "    h=int(input(\"Enter the height : \"))\n",
    "    w=int(input(\"Enter the width : \"))\n",
    "    area=h*w\n",
    "    print(\"Area of rectangle is : \",area)\n",
    "    print(\"=========================\")\n",
    "    print(\"=========================\")\n",
    "    a=int(input(\"Enter the length of side : \"))\n",
    "    area=a**2\n",
    "    print(\"Area of Square is : \",area)\n",
    "    print(\"=========================\")\n",
    "    \n",
    "\n",
    "    print(\"=========================\")\n",
    "    b=int(input(\"Enter the base : \"))\n",
    "    h-int(input(\"Enter the height : \"))\n",
    "    area=(1/2)*b*h\n",
    "    print(\"Area of Triangle is : \",area)\n",
    "    print(\"=========================\")\n",
    "\n",
    "\n",
    "    \n",
    "    print(\"=========================\")\n",
    "    r=int(input(\"Enter the radius : \"))\n",
    "    area=(3.14)*(r**2)\n",
    "    print(\"Area of Circle is : \",area)\n",
    "    print(\"=========================\")\n",
    "    \n",
    "\n"
   ]
  },
  {
   "cell_type": "markdown",
   "id": "e7093d8a",
   "metadata": {},
   "source": [
    "### 9. Write a program to Calculate Net salary of an employee whose basic salary is entered by the user,DA is 5% of basic salary , HRA is 7% of basic salary and PF is 3% Basic Salary."
   ]
  },
  {
   "cell_type": "code",
   "execution_count": 22,
   "id": "1ce8e1d2",
   "metadata": {},
   "outputs": [
    {
     "name": "stdout",
     "output_type": "stream",
     "text": [
      "Enter the basic salary of employee : 28400\n",
      "=========================\n",
      "=========================\n",
      "DA = Dearness Allowance \n",
      "HRA = House rent allowance \n",
      "PF = Provident fund\n",
      "=========================\n",
      "=========================\n",
      "Net salary of employee is :  32660.0\n"
     ]
    }
   ],
   "source": [
    " basic=int(input(\"Enter the basic salary of employee : \"))\n",
    "print(\"=========================\")\n",
    "print(\"=========================\")\n",
    "print(\"DA = Dearness Allowance \")\n",
    "DA=basic*0.05\n",
    "print(\"HRA = House rent allowance \")\n",
    "HRA=basic*0.07\n",
    "print(\"PF = Provident fund\")\n",
    "PF=basic*0.03\n",
    "print(\"=========================\")\n",
    "print(\"=========================\")\n",
    "net=DA+HRA+PF\n",
    "print(\"Net salary of employee is : \",net + basic)"
   ]
  },
  {
   "cell_type": "markdown",
   "id": "adcfc8f5",
   "metadata": {},
   "source": [
    "## 10. Write a program Calculate power of number."
   ]
  },
  {
   "cell_type": "code",
   "execution_count": 23,
   "id": "14c90115",
   "metadata": {},
   "outputs": [
    {
     "name": "stdout",
     "output_type": "stream",
     "text": [
      "Enter the num value : 75\n",
      "Power of a number is :  5625\n"
     ]
    }
   ],
   "source": [
    "num=int(input(\"Enter the num value : \"))\n",
    "cal=num**2\n",
    "print(\"Power of a number is : \",cal)"
   ]
  },
  {
   "cell_type": "markdown",
   "id": "308eecc8",
   "metadata": {},
   "source": [
    "## 11. Write a program to get Python Version."
   ]
  },
  {
   "cell_type": "code",
   "execution_count": 24,
   "id": "c0ccd302",
   "metadata": {},
   "outputs": [
    {
     "name": "stdout",
     "output_type": "stream",
     "text": [
      "Python version which i'm using is :  3.9.12\n"
     ]
    }
   ],
   "source": [
    "from platform import python_version\n",
    "print(\"Python version which i'm using is : \",python_version())"
   ]
  },
  {
   "cell_type": "code",
   "execution_count": null,
   "id": "8296969a",
   "metadata": {},
   "outputs": [],
   "source": []
  }
 ],
 "metadata": {
  "kernelspec": {
   "display_name": "Python 3 (ipykernel)",
   "language": "python",
   "name": "python3"
  },
  "language_info": {
   "codemirror_mode": {
    "name": "ipython",
    "version": 3
   },
   "file_extension": ".py",
   "mimetype": "text/x-python",
   "name": "python",
   "nbconvert_exporter": "python",
   "pygments_lexer": "ipython3",
   "version": "3.9.12"
  }
 },
 "nbformat": 4,
 "nbformat_minor": 5
}
