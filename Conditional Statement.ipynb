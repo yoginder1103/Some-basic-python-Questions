{
 "cells": [
  {
   "cell_type": "markdown",
   "id": "f6893dd3",
   "metadata": {},
   "source": [
    "## 1. Write a Program to check whether a given number ois even or odd."
   ]
  },
  {
   "cell_type": "code",
   "execution_count": 1,
   "id": "d88b4c3e",
   "metadata": {},
   "outputs": [
    {
     "name": "stdout",
     "output_type": "stream",
     "text": [
      "Enter the number : 3636\n",
      "=================================\n",
      "The Given number 3636 is a even.\n"
     ]
    }
   ],
   "source": [
    "num=int(input(\"Enter the number : \"))\n",
    "if num%2==0:\n",
    "    print(\"=================================\")\n",
    "    print('The Given number',num,'is a even.')\n",
    "    \n",
    "else:\n",
    "    print(\"================================\")\n",
    "    print('The Given number',num,'is a odd.')\n",
    "    "
   ]
  },
  {
   "cell_type": "markdown",
   "id": "8cbd60ed",
   "metadata": {},
   "source": [
    "## 2.Write a Program to check whether an alphabet is a vowel or consonant."
   ]
  },
  {
   "cell_type": "code",
   "execution_count": 2,
   "id": "57bc6b96",
   "metadata": {},
   "outputs": [
    {
     "name": "stdout",
     "output_type": "stream",
     "text": [
      "Enter the Alphabet : K\n",
      "==============================\n",
      "The Given K is a Consonant.\n"
     ]
    }
   ],
   "source": [
    "Al=input(\"Enter the Alphabet : \")\n",
    "if Al=='A' or Al=='E' or Al=='I' or Al=='O' or Al=='U' or Al=='a' or Al=='e' or Al=='i' or Al=='o' or Al=='u':\n",
    "    print(\"==========================\")\n",
    "    print(\"The Given\",Al,\"is a Vowel.\")\n",
    "    \n",
    "else:\n",
    "    print(\"==============================\")\n",
    "    print(\"The Given\",Al,\"is a Consonant.\")"
   ]
  },
  {
   "cell_type": "markdown",
   "id": "b584de16",
   "metadata": {},
   "source": [
    "## 3. Write a program to check whether a person is eligible to vote or not."
   ]
  },
  {
   "cell_type": "code",
   "execution_count": 3,
   "id": "26a897e0",
   "metadata": {},
   "outputs": [
    {
     "name": "stdout",
     "output_type": "stream",
     "text": [
      "Enter the age of perason : 22\n",
      "===============================\n",
      "This Person is eligible to vote\n"
     ]
    }
   ],
   "source": [
    "Person=int(input(\"Enter the age of perason : \"))\n",
    "if Person>=18:\n",
    "    print(\"===============================\")\n",
    "    print(\"This Person is eligible to vote\")\n",
    "    \n",
    "else:\n",
    "    print(\"===================================\")\n",
    "    print(\"This Person is not eligible to vote\")\n"
   ]
  },
  {
   "cell_type": "markdown",
   "id": "e7d1f0bf",
   "metadata": {},
   "source": [
    "## 4. Write a program to check whether a given number is positive, negative or Zero. "
   ]
  },
  {
   "cell_type": "code",
   "execution_count": 4,
   "id": "a93fd61b",
   "metadata": {},
   "outputs": [
    {
     "name": "stdout",
     "output_type": "stream",
     "text": [
      "Enter the number : 6\n",
      "===================================\n",
      "The Given number 6 is Positive.\n"
     ]
    }
   ],
   "source": [
    "num=int(input(\"Enter the number : \"))\n",
    "if num>0:\n",
    "    print(\"===================================\")\n",
    "    print(\"The Given number\",num,\"is Positive.\")\n",
    "\n",
    "elif num<0:\n",
    "    print(\"===================================\")\n",
    "    print(\"The Given number\",num,\"is negative.\")\n",
    "\n",
    "else:\n",
    "    print(\"===================================\")\n",
    "    print(\"The Given number is Zero\")"
   ]
  },
  {
   "cell_type": "markdown",
   "id": "395c2316",
   "metadata": {},
   "source": [
    "## 5. Write a program to check whether a given year is leap or not."
   ]
  },
  {
   "cell_type": "code",
   "execution_count": 5,
   "id": "faa9da89",
   "metadata": {},
   "outputs": [
    {
     "name": "stdout",
     "output_type": "stream",
     "text": [
      "Enter the year : 2022\n",
      "===================================\n",
      "2022 is a not leap year.\n"
     ]
    }
   ],
   "source": [
    "year=int(input(\"Enter the year : \"))\n",
    "if (year%4 == 0 and year%100 != 0) or (year%400 == 0) :\n",
    "    print(\"===================================\")\n",
    "    print(year, \"is a leap year.\") \n",
    "        \n",
    "else:\n",
    "    print(\"===================================\")\n",
    "    print(year,\"is a not leap year.\")\n",
    "    "
   ]
  },
  {
   "cell_type": "markdown",
   "id": "b424979c",
   "metadata": {},
   "source": [
    "## 6. Write a program to check a triangle is equilateral, isosceles or scalene."
   ]
  },
  {
   "cell_type": "code",
   "execution_count": 6,
   "id": "0fb7aff1",
   "metadata": {},
   "outputs": [
    {
     "name": "stdout",
     "output_type": "stream",
     "text": [
      "Enter the x length of triangle side : 5\n",
      "Enter the y length of triangle side : 6\n",
      "Enter the x length of triangle side : 5\n",
      "===================================\n",
      "It is a isosceles triangle\n"
     ]
    }
   ],
   "source": [
    "x=int(input(\"Enter the x length of triangle side : \"))\n",
    "y=int(input(\"Enter the y length of triangle side : \"))\n",
    "z=int(input(\"Enter the x length of triangle side : \"))\n",
    "if x == y == z:\n",
    "    print(\"===================================\")\n",
    "    print(\"It is a  Equilateral triangle\")\n",
    "    \n",
    "elif x==y or y==z or z==x :\n",
    "    print(\"===================================\")\n",
    "    print(\"It is a isosceles triangle\")\n",
    "    \n",
    "else:\n",
    "    print(\"===================================\")\n",
    "    print(\"It is a scalene triangle\")"
   ]
  },
  {
   "cell_type": "markdown",
   "id": "5c04e584",
   "metadata": {},
   "source": [
    "## 7. Write a program to check whether after selling a product its profit or loss."
   ]
  },
  {
   "cell_type": "code",
   "execution_count": 7,
   "id": "0903d28e",
   "metadata": {},
   "outputs": [
    {
     "name": "stdout",
     "output_type": "stream",
     "text": [
      "Enter the price of product : 56\n",
      "Enter the selling price of product : 85\n",
      "===================================\n",
      "Selling price 85 is more then Product price 56 so it's profit.\n"
     ]
    }
   ],
   "source": [
    "pp=int(input(\"Enter the price of product : \"))\n",
    "sp=int(input(\"Enter the selling price of product : \"))\n",
    "if sp>pp:\n",
    "    print(\"===================================\")\n",
    "    print(\"Selling price\",sp,\"is more then Product price\",pp,\"so it's profit.\")\n",
    "    \n",
    "else:\n",
    "    print(\"===================================\")\n",
    "    print(\"Selling price\",sp,\"is less then Product price\",pp,\"so it's loss.\")"
   ]
  },
  {
   "cell_type": "markdown",
   "id": "ca39d189",
   "metadata": {},
   "source": [
    "## 8. Write a program to enter two number and print the greatest number."
   ]
  },
  {
   "cell_type": "code",
   "execution_count": 8,
   "id": "b7197646",
   "metadata": {},
   "outputs": [
    {
     "name": "stdout",
     "output_type": "stream",
     "text": [
      "Enter the number 1 : 56\n",
      "Enter the number 2 : 63\n",
      "===================================\n",
      "The Given number 63 is a greatest number.\n"
     ]
    }
   ],
   "source": [
    "num1=int(input(\"Enter the number 1 : \"))\n",
    "num2=int(input(\"Enter the number 2 : \"))\n",
    "if num1 > num2:\n",
    "    print(\"===================================\")\n",
    "    print(\"The Given number\",num1,\"is a greatest number.\")\n",
    "    \n",
    "else:\n",
    "    print(\"===================================\")\n",
    "    print(\"The Given number\",num2,\"is a greatest number.\")"
   ]
  },
  {
   "cell_type": "markdown",
   "id": "54c16af6",
   "metadata": {},
   "source": [
    "## 9. Write a program to enter two number and print the smallest number."
   ]
  },
  {
   "cell_type": "code",
   "execution_count": 9,
   "id": "db0ede1c",
   "metadata": {},
   "outputs": [
    {
     "name": "stdout",
     "output_type": "stream",
     "text": [
      "Enter the number 1 : 8\n",
      "Enter the number 2 : 98\n",
      "===================================\n",
      "The Given number 8 is a Smallest number.\n"
     ]
    }
   ],
   "source": [
    "num1=int(input(\"Enter the number 1 : \"))\n",
    "num2=int(input(\"Enter the number 2 : \"))\n",
    "if num1 < num2:\n",
    "    print(\"===================================\")\n",
    "    print(\"The Given number\",num1,\"is a Smallest number.\")\n",
    "    \n",
    "else:\n",
    "    print(\"===================================\")\n",
    "    print(\"The Given number\",num2,\"is a Smallest number.\")"
   ]
  },
  {
   "cell_type": "markdown",
   "id": "875f979c",
   "metadata": {},
   "source": [
    "## 10. Write a program to enter three number and print the greatest number."
   ]
  },
  {
   "cell_type": "code",
   "execution_count": 10,
   "id": "46fb08dd",
   "metadata": {},
   "outputs": [
    {
     "name": "stdout",
     "output_type": "stream",
     "text": [
      "Enter the number 1 : 56\n",
      "Enter the number 2 : 45\n",
      "Enter the number 3 : 78\n",
      "===================================\n",
      "The Given number 78 is a greatest number.\n"
     ]
    }
   ],
   "source": [
    "num1=int(input(\"Enter the number 1 : \"))\n",
    "num2=int(input(\"Enter the number 2 : \"))\n",
    "num3=int(input(\"Enter the number 3 : \"))\n",
    "if num1>num2 and num1>num3:\n",
    "    print(\"===================================\")\n",
    "    print(\"The Given number\",num1,\"is a greatest number.\")\n",
    "    \n",
    "elif num2>num1 and num2>num3:\n",
    "    print(\"===================================\")\n",
    "    print(\"The Given number\",num2,\"is a greatest number.\")\n",
    "    \n",
    "else:\n",
    "    print(\"===================================\")\n",
    "    print(\"The Given number\",num3,\"is a greatest number.\")"
   ]
  },
  {
   "cell_type": "markdown",
   "id": "e905e908",
   "metadata": {},
   "source": [
    "## 11. Write a program to enter three number and print the smallest number."
   ]
  },
  {
   "cell_type": "code",
   "execution_count": 11,
   "id": "f155795b",
   "metadata": {},
   "outputs": [
    {
     "name": "stdout",
     "output_type": "stream",
     "text": [
      "Enter the number 1 : 45\n",
      "Enter the number 2 : 12\n",
      "Enter the number 3 : 78\n",
      "===================================\n",
      "The Given number 12 is a Smallest number.\n"
     ]
    }
   ],
   "source": [
    "num1=int(input(\"Enter the number 1 : \"))\n",
    "num2=int(input(\"Enter the number 2 : \"))\n",
    "num3=int(input(\"Enter the number 3 : \"))\n",
    "if num1<num2 and num1<num3:\n",
    "    print(\"===================================\")\n",
    "    print(\"The Given number\",num1,\"is a Smallest number.\")\n",
    "    \n",
    "elif num2<num1 and num2<num3:\n",
    "    print(\"===================================\")\n",
    "    print(\"The Given number\",num2,\"is a Smallest number.\")\n",
    "    \n",
    "else:\n",
    "    print(\"===================================\")\n",
    "    print(\"The Given number\",num3,\"is a Smallest number.\")"
   ]
  },
  {
   "cell_type": "markdown",
   "id": "8a0ff4a4",
   "metadata": {},
   "source": [
    "## 12. Write a program to calculate the root of quadratic equation."
   ]
  },
  {
   "cell_type": "code",
   "execution_count": 12,
   "id": "7d895c3d",
   "metadata": {},
   "outputs": [
    {
     "name": "stdout",
     "output_type": "stream",
     "text": [
      "Enter the number 1 : 23\n",
      "Enter the number 2 : 45\n",
      "Enter the number 3 : 89\n",
      "===================================\n",
      "No roots, discriminant < 0.\n"
     ]
    }
   ],
   "source": [
    "from math import sqrt\n",
    "a=int(input(\"Enter the number 1 : \"))\n",
    "b=int(input(\"Enter the number 2 : \"))\n",
    "c=int(input(\"Enter the number 3 : \"))\n",
    "\n",
    "r = b**2 - 4*a*c\n",
    "\n",
    "if r > 0:\n",
    "    num_roots = 2\n",
    "    x1 = (((-b) + sqrt(r))/(2*a))     \n",
    "    x2 = (((-b) - sqrt(r))/(2*a))\n",
    "    print(\"===================================\")\n",
    "    print(\"There are 2 roots: %f and %f\" % (x1, x2))\n",
    "elif r == 0:\n",
    "    num_roots = 1\n",
    "    x = (-b) / 2*a\n",
    "    print(\"===================================\")\n",
    "    print(\"There is one root: \", x)\n",
    "else:\n",
    "    num_roots = 0\n",
    "    print(\"===================================\")\n",
    "    print(\"No roots, discriminant < 0.\")"
   ]
  },
  {
   "cell_type": "markdown",
   "id": "d09b3536",
   "metadata": {},
   "source": [
    "## 13. Write a program to enter a number between (1-7) and print the respective day of the week."
   ]
  },
  {
   "cell_type": "code",
   "execution_count": 13,
   "id": "9b3588ca",
   "metadata": {},
   "outputs": [
    {
     "name": "stdout",
     "output_type": "stream",
     "text": [
      "Enter a Number that's   lai in between 1-7 : 5\n",
      "===================================\n",
      "Day is Friday\n"
     ]
    }
   ],
   "source": [
    "num=int(input(\"Enter a Number that's   lai in between 1-7 : \"))\n",
    "if num==1:\n",
    "    print(\"===================================\")\n",
    "    print(\"Day is Monday\")\n",
    "    \n",
    "elif num==2:\n",
    "    print(\"===================================\")\n",
    "    print(\"Day is Tuesday\")\n",
    "    \n",
    "elif num==3:\n",
    "    print(\"===================================\")\n",
    "    print(\"Day is Wednesday\")\n",
    "    \n",
    "elif num==4:\n",
    "    print(\"===================================\")\n",
    "    print(\"Day is Thursday\")\n",
    "    \n",
    "elif num==5:\n",
    "    print(\"===================================\")\n",
    "    print(\"Day is Friday\")\n",
    "    \n",
    "elif num==6:\n",
    "    print(\"===================================\")\n",
    "    print(\"Day is Saturday\")\n",
    "    \n",
    "elif num==7:\n",
    "    print(\"===================================\")\n",
    "    print(\"Day is Sunday\")\n",
    "    \n",
    "else:\n",
    "    print(\"===================================\")\n",
    "    print(\"Enter Number is not lai in between 1-7\")\n"
   ]
  },
  {
   "cell_type": "markdown",
   "id": "1e135631",
   "metadata": {},
   "source": [
    "## 14. Write a program to enter a number between (1-12) and print the respective day of the month."
   ]
  },
  {
   "cell_type": "code",
   "execution_count": 14,
   "id": "d879e63e",
   "metadata": {},
   "outputs": [
    {
     "name": "stdout",
     "output_type": "stream",
     "text": [
      "Enter a Number that's  lai in between 1-12 : 3\n",
      "===================================\n",
      "Month is March\n"
     ]
    }
   ],
   "source": [
    "num=int(input(\"Enter a Number that's  lai in between 1-12 : \"))\n",
    "if num==1:\n",
    "    print(\"===================================\")\n",
    "    print(\"Month is January\")\n",
    "    \n",
    "elif num==2:\n",
    "    print(\"===================================\")\n",
    "    print(\"Month is February\")\n",
    "    \n",
    "elif num==3:\n",
    "    print(\"===================================\")\n",
    "    print(\"Month is March\")\n",
    "                \n",
    "elif num==4:\n",
    "    print(\"===================================\")\n",
    "    print(\"Month is April\")\n",
    "                \n",
    "elif num==5:\n",
    "    print(\"===================================\")\n",
    "    print(\"Month is May\")\n",
    "                \n",
    "elif num==6:\n",
    "    print(\"===================================\")\n",
    "    print(\"Month is June\")\n",
    "                \n",
    "elif num==7:\n",
    "    print(\"===================================\")\n",
    "    print(\"Month is July\")\n",
    "                \n",
    "elif num==8:\n",
    "    print(\"===================================\")\n",
    "    print(\"Month is August\")\n",
    "                \n",
    "elif num==9:\n",
    "    print(\"===================================\")\n",
    "    print(\"Month is September\")\n",
    "                \n",
    "elif num==10:\n",
    "    print(\"===================================\")\n",
    "    print(\"Month is October\")\n",
    "                \n",
    "elif num==11:\n",
    "    print(\"===================================\")\n",
    "    print(\"Month is November\")\n",
    "                \n",
    "elif num==12:\n",
    "    print(\"===================================\")\n",
    "    print(\"Month is December\")\n",
    "                \n",
    "else:\n",
    "    print(\"===================================\")\n",
    "    print(\"Enter Number is not lai in between 1-12\")\n",
    "    "
   ]
  },
  {
   "cell_type": "markdown",
   "id": "c103369f",
   "metadata": {},
   "source": [
    "## 15. Write a program to enter a number between (1-4) and perform the following operations.\n",
    "- Addition\n",
    "- Subtraction\n",
    "- Multiplication\n",
    "- Division\n",
    "\n"
   ]
  },
  {
   "cell_type": "code",
   "execution_count": 15,
   "id": "55f3baf7",
   "metadata": {},
   "outputs": [
    {
     "name": "stdout",
     "output_type": "stream",
     "text": [
      "Enter a Number that's  lai in between 1-4 :\n",
      "1.Addition\n",
      "2.Subtraction\n",
      "3.Multiplication\n",
      "4.Division\n",
      "4\n",
      "Enter the number 1 : 8\n",
      "Enter the number 2 : 4\n",
      "===================================\n",
      "===================================\n",
      "Division of two numbers is : 2.0\n"
     ]
    }
   ],
   "source": [
    "num=int(input(\"\"\"Enter a Number that's  lai in between 1-4 :\n",
    "1.Addition\n",
    "2.Subtraction\n",
    "3.Multiplication\n",
    "4.Division\n",
    "\"\"\"))\n",
    "\n",
    "if num==1:\n",
    "    num1=int(input(\"Enter the number 1 : \"))\n",
    "    num2=int(input(\"Enter the number 2 : \"))\n",
    "    Addition=num1+num2\n",
    "    print(\"===================================\")\n",
    "    print(\"===================================\")\n",
    "    print(\"Sum of two numbers is :\",Addition)      \n",
    "        \n",
    "elif num==2:\n",
    "    num1=int(input(\"Enter the number 1 : \"))\n",
    "    num2=int(input(\"Enter the number 2 : \"))\n",
    "    Subtraction=num1-num2\n",
    "    print(\"===================================\")\n",
    "    print(\"===================================\")\n",
    "    print(\"Difference of two numbers is :\",Subtraction)\n",
    "              \n",
    "elif num==3:\n",
    "    num1=int(input(\"Enter the number 1 : \")) \n",
    "    num2=int(input(\"Enter the number 2 : \"))      \n",
    "    Multiplication=num1*num2\n",
    "    print(\"===================================\")\n",
    "    print(\"===================================\")\n",
    "    print(\"Multiplication of two numbers is :\",Multiplication)\n",
    "              \n",
    "elif num==4:\n",
    "    num1=int(input(\"Enter the number 1 : \")) \n",
    "    num2=int(input(\"Enter the number 2 : \")) \n",
    "    Division=num1/num2\n",
    "    print(\"===================================\")\n",
    "    print(\"===================================\")\n",
    "    print(\"Division of two numbers is :\",Division)      \n",
    "\n",
    "else:\n",
    "    print(\"===================================\")\n",
    "    print(\"Enter Number is not lai in between 1-4\")         "
   ]
  },
  {
   "cell_type": "markdown",
   "id": "1d241fcc",
   "metadata": {},
   "source": [
    "## 16. Write a program to convert temperatures to and from celsius, Fahrenheit."
   ]
  },
  {
   "cell_type": "code",
   "execution_count": 20,
   "id": "1c878de6",
   "metadata": {},
   "outputs": [
    {
     "name": "stdout",
     "output_type": "stream",
     "text": [
      "Input the  temperature you like to convert? (e.g., 45F, 102C etc.) : 45F\n",
      "The temperature in Celsius is 7 degrees.\n"
     ]
    }
   ],
   "source": [
    " temp = input(\"Input the  temperature you like to convert? (e.g., 45F, 102C etc.) : \")\n",
    "degree = int(temp[:-1])\n",
    "i_convention = temp[-1]\n",
    "\n",
    "if i_convention.upper() == \"C\":\n",
    "  result = int(round((9 * degree) / 5 + 32))\n",
    "  o_convention = \"Fahrenheit\"\n",
    "elif i_convention.upper() == \"F\":\n",
    "  result = int(round((degree - 32) * 5 / 9))\n",
    "  o_convention = \"Celsius\"\n",
    "else:\n",
    "  print(\"Input proper convention.\")\n",
    "  quit()\n",
    "print(\"The temperature in\", o_convention, \"is\", result, \"degrees.\")"
   ]
  },
  {
   "cell_type": "markdown",
   "id": "2049e0f0",
   "metadata": {},
   "source": [
    "## 17. A company decided to give bonus of 5% to employee if his/her year of service is more than 5 years. Ask user for their salary and year of service and print the net bonus amount."
   ]
  },
  {
   "cell_type": "code",
   "execution_count": 21,
   "id": "daf10244",
   "metadata": {
    "scrolled": true
   },
   "outputs": [
    {
     "name": "stdout",
     "output_type": "stream",
     "text": [
      "Enter the salary of employee : 28000\n",
      "Enter the total year of service : 10\n",
      "=============================================\n",
      "=============================================\n",
      "Employee year of service is more than 5 year.\n",
      "The net bonus amount is :  1400.0\n"
     ]
    }
   ],
   "source": [
    "User=int(input(\"Enter the salary of employee : \"))\n",
    "service=int(input(\"Enter the total year of service : \"))\n",
    "if service>5:\n",
    "    print(\"=============================================\")\n",
    "    print(\"=============================================\")\n",
    "    print(\"Employee year of service is more than 5 year.\")\n",
    "    bonus=User*0.05\n",
    "    print(\"The net bonus amount is : \",bonus)\n",
    "    \n",
    "else:\n",
    "    print(\"=============================================\")\n",
    "    print(\"=============================================\")\n",
    "    print(\"Employee year of service is not more than 5 years.\")"
   ]
  },
  {
   "cell_type": "markdown",
   "id": "7aa7bf7f",
   "metadata": {},
   "source": [
    "## 18. Given values of length and breadth of a rectangle from user, check if it is square or not."
   ]
  },
  {
   "cell_type": "code",
   "execution_count": 22,
   "id": "c9e0b5d9",
   "metadata": {},
   "outputs": [
    {
     "name": "stdout",
     "output_type": "stream",
     "text": [
      "Enter the length : 45\n",
      "Enter the breadth : 30\n",
      "Its a rectangle\n"
     ]
    }
   ],
   "source": [
    "l=int(input(\"Enter the length : \"))\n",
    "b=int(input(\"Enter the breadth : \"))\n",
    "if l==b:\n",
    "    print(\"Its a Square\")\n",
    "    \n",
    "else:\n",
    "    print(\"Its a rectangle\")"
   ]
  },
  {
   "cell_type": "markdown",
   "id": "57bf0b9f",
   "metadata": {},
   "source": [
    "## 19. Take input of age of 3 people by user and determine oldest and youngest among them."
   ]
  },
  {
   "cell_type": "code",
   "execution_count": 23,
   "id": "49d3e5b0",
   "metadata": {
    "scrolled": true
   },
   "outputs": [
    {
     "name": "stdout",
     "output_type": "stream",
     "text": [
      "Enter the age1: 12\n",
      "Enter the age2: 45\n",
      "Enter the age3: 56\n",
      "===============\n",
      "===============\n",
      "Age 56 is oldest\n",
      "===============\n",
      "===============\n",
      "Age 12 is youngest\n"
     ]
    }
   ],
   "source": [
    "age1=int(input('Enter the age1: '))\n",
    "age2=int(input('Enter the age2: '))\n",
    "age3=int(input('Enter the age3: '))\n",
    "\n",
    "if age1>age2 and age1>age3:\n",
    "    print('===============')\n",
    "    print('===============')\n",
    "    print('Age',age1,'is oldest')\n",
    "    \n",
    "elif age2>age1 and age2>age3:\n",
    "    print('===============')\n",
    "    print('===============')\n",
    "    print('Age',age2,'is oldest')\n",
    "    \n",
    "else:\n",
    "    print('===============')\n",
    "    print('===============')\n",
    "    print('Age',age3,'is oldest')\n",
    "    \n",
    "if age1<age2 and age1<age3:\n",
    "    print('===============')\n",
    "    print('===============')\n",
    "    print('Age',age1,'is youngest')\n",
    "    \n",
    "elif age2<age1 and age2<age3:\n",
    "    print('===============')\n",
    "    print('===============')\n",
    "    print('Age',age2,'is youngest')\n",
    "    \n",
    "else:\n",
    "    print('===============')\n",
    "    print('===============')\n",
    "    print('Age',age3,'is youngest')"
   ]
  },
  {
   "cell_type": "markdown",
   "id": "200e1c4a",
   "metadata": {},
   "source": [
    "## 20. A school has following rules for grading system:\n",
    "\n",
    "- Below 25 - F\n",
    "- 25 to 45 - E\n",
    "- 45 to 50 - D\n",
    "- 50 to 60 - C\n",
    "- 60 to 80 - B\n",
    "- Above 80 - A\n",
    "\n",
    "Ask user to enter marks and print the corresponding grade."
   ]
  },
  {
   "cell_type": "code",
   "execution_count": 24,
   "id": "ec55b061",
   "metadata": {},
   "outputs": [
    {
     "name": "stdout",
     "output_type": "stream",
     "text": [
      "Enter the marks : 84\n",
      "=============\n",
      "84 Marks and Grade is A\n"
     ]
    }
   ],
   "source": [
    "Marks=int(input(\"Enter the marks : \"))\n",
    "if Marks<25:\n",
    "    print(\"=============\")\n",
    "    print(Marks,\"Marks and Grade is F\")\n",
    "\n",
    "elif Marks<45:\n",
    "    print(\"=============\")\n",
    "    print(Marks,\"Marks and Grade is E\")\n",
    "    \n",
    "elif Marks<50:\n",
    "    print(\"=============\")\n",
    "    print(Marks,\"Marks and Grade is D\")\n",
    "\n",
    "elif Marks<60:\n",
    "    print(\"=============\")\n",
    "    print(Marks,\"Marks and Grade is C\")\n",
    "    25\n",
    "    \n",
    "    \n",
    "elif Marks<80:\n",
    "    print(\"=============\")\n",
    "    print(Marks,\"Marks and Grade is B\")\n",
    "    \n",
    "elif Marks>80:\n",
    "    print(\"=============\")\n",
    "    print(Marks,\"Marks and Grade is A\")\n",
    "    \n",
    "else:\n",
    "    print('not')"
   ]
  },
  {
   "cell_type": "code",
   "execution_count": null,
   "id": "680314cc",
   "metadata": {},
   "outputs": [],
   "source": []
  }
 ],
 "metadata": {
  "kernelspec": {
   "display_name": "Python 3 (ipykernel)",
   "language": "python",
   "name": "python3"
  },
  "language_info": {
   "codemirror_mode": {
    "name": "ipython",
    "version": 3
   },
   "file_extension": ".py",
   "mimetype": "text/x-python",
   "name": "python",
   "nbconvert_exporter": "python",
   "pygments_lexer": "ipython3",
   "version": "3.9.12"
  }
 },
 "nbformat": 4,
 "nbformat_minor": 5
}
